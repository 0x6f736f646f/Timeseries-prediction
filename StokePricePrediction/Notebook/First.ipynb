{
 "cells": [
  {
   "cell_type": "code",
   "execution_count": 2,
   "metadata": {},
   "outputs": [],
   "source": [
    "import math\n",
    "import time\n",
    "import numpy as np\n",
    "import pandas as pd\n",
    "from matplotlib import pyplot as plt\n",
    "from sklearn.preprocessing import MinMaxScaler\n",
    "from sklearn.metrics import mean_squared_error\n",
    "from keras.models import Sequential\n",
    "from keras.layers import Dense\n",
    "from keras.layers import LSTM\n",
    "from keras.layers.core import Dense, Activation, Dropout"
   ]
  },
  {
   "cell_type": "code",
   "execution_count": 28,
   "metadata": {},
   "outputs": [],
   "source": [
    "np.random.seed(42)"
   ]
  },
  {
   "cell_type": "code",
   "execution_count": 29,
   "metadata": {},
   "outputs": [],
   "source": [
    "data = pd.read_csv(\"../Data/DIS.csv\", header=None, index_col=None)"
   ]
  },
  {
   "cell_type": "code",
   "execution_count": 30,
   "metadata": {},
   "outputs": [
    {
     "data": {
      "text/html": [
       "<div>\n",
       "<style scoped>\n",
       "    .dataframe tbody tr th:only-of-type {\n",
       "        vertical-align: middle;\n",
       "    }\n",
       "\n",
       "    .dataframe tbody tr th {\n",
       "        vertical-align: top;\n",
       "    }\n",
       "\n",
       "    .dataframe thead th {\n",
       "        text-align: right;\n",
       "    }\n",
       "</style>\n",
       "<table border=\"1\" class=\"dataframe\">\n",
       "  <thead>\n",
       "    <tr style=\"text-align: right;\">\n",
       "      <th></th>\n",
       "      <th>0</th>\n",
       "      <th>1</th>\n",
       "      <th>2</th>\n",
       "      <th>3</th>\n",
       "      <th>4</th>\n",
       "      <th>5</th>\n",
       "      <th>6</th>\n",
       "    </tr>\n",
       "  </thead>\n",
       "  <tbody>\n",
       "    <tr>\n",
       "      <th>0</th>\n",
       "      <td>1996-12-31</td>\n",
       "      <td>23.011177</td>\n",
       "      <td>23.175543</td>\n",
       "      <td>22.805719</td>\n",
       "      <td>22.928993</td>\n",
       "      <td>17.804647</td>\n",
       "      <td>2719200</td>\n",
       "    </tr>\n",
       "    <tr>\n",
       "      <th>1</th>\n",
       "      <td>1997-01-02</td>\n",
       "      <td>22.928993</td>\n",
       "      <td>22.970085</td>\n",
       "      <td>21.942801</td>\n",
       "      <td>22.148258</td>\n",
       "      <td>17.198397</td>\n",
       "      <td>8115400</td>\n",
       "    </tr>\n",
       "    <tr>\n",
       "      <th>2</th>\n",
       "      <td>1997-01-03</td>\n",
       "      <td>22.394806</td>\n",
       "      <td>22.805719</td>\n",
       "      <td>22.394806</td>\n",
       "      <td>22.764629</td>\n",
       "      <td>17.677013</td>\n",
       "      <td>4650000</td>\n",
       "    </tr>\n",
       "    <tr>\n",
       "      <th>3</th>\n",
       "      <td>1997-01-06</td>\n",
       "      <td>22.764629</td>\n",
       "      <td>22.928993</td>\n",
       "      <td>22.559172</td>\n",
       "      <td>22.682446</td>\n",
       "      <td>17.613201</td>\n",
       "      <td>3623300</td>\n",
       "    </tr>\n",
       "  </tbody>\n",
       "</table>\n",
       "</div>"
      ],
      "text/plain": [
       "            0          1          2          3          4          5        6\n",
       "0  1996-12-31  23.011177  23.175543  22.805719  22.928993  17.804647  2719200\n",
       "1  1997-01-02  22.928993  22.970085  21.942801  22.148258  17.198397  8115400\n",
       "2  1997-01-03  22.394806  22.805719  22.394806  22.764629  17.677013  4650000\n",
       "3  1997-01-06  22.764629  22.928993  22.559172  22.682446  17.613201  3623300"
      ]
     },
     "execution_count": 30,
     "metadata": {},
     "output_type": "execute_result"
    }
   ],
   "source": [
    "data.head(4)"
   ]
  },
  {
   "cell_type": "code",
   "execution_count": 31,
   "metadata": {},
   "outputs": [],
   "source": [
    "all_y = data[5].values\n",
    "dataset=all_y.reshape(-1, 1)"
   ]
  },
  {
   "cell_type": "code",
   "execution_count": 32,
   "metadata": {},
   "outputs": [
    {
     "data": {
      "text/plain": [
       "array([[ 17.804647],\n",
       "       [ 17.198397],\n",
       "       [ 17.677013],\n",
       "       ...,\n",
       "       [102.703629],\n",
       "       [102.959648],\n",
       "       [102.624855]])"
      ]
     },
     "execution_count": 32,
     "metadata": {},
     "output_type": "execute_result"
    }
   ],
   "source": [
    "dataset"
   ]
  },
  {
   "cell_type": "code",
   "execution_count": 33,
   "metadata": {},
   "outputs": [
    {
     "data": {
      "text/plain": [
       "(5035, 7)"
      ]
     },
     "execution_count": 33,
     "metadata": {},
     "output_type": "execute_result"
    }
   ],
   "source": [
    "data.shape"
   ]
  },
  {
   "cell_type": "code",
   "execution_count": 34,
   "metadata": {},
   "outputs": [],
   "source": [
    "# normalize the dataset\n",
    "scaler = MinMaxScaler(feature_range=(0, 1))\n",
    "dataset = scaler.fit_transform(dataset)"
   ]
  },
  {
   "cell_type": "code",
   "execution_count": 35,
   "metadata": {},
   "outputs": [],
   "source": [
    "# split into train and test sets, 50% test data, 50% training data\n",
    "train_size = int(len(dataset) * 0.5)\n",
    "test_size = len(dataset) - train_size\n",
    "train, test = dataset[0:train_size,:], dataset[train_size:len(dataset),:]"
   ]
  },
  {
   "cell_type": "code",
   "execution_count": 36,
   "metadata": {},
   "outputs": [],
   "source": [
    "# convert an array of values into a dataset matrix\n",
    "def create_dataset(dataset, look_back=1):\n",
    "    dataX, dataY = [], []\n",
    "    for i in range(len(dataset)-look_back-1):\n",
    "        a = dataset[i:(i+look_back), 0]\n",
    "        dataX.append(a)\n",
    "        dataY.append(dataset[i + look_back, 0])\n",
    "    return np.array(dataX), np.array(dataY)"
   ]
  },
  {
   "cell_type": "code",
   "execution_count": 37,
   "metadata": {},
   "outputs": [],
   "source": [
    "# reshape into X=t and Y=t+1, timestep 240\n",
    "look_back = 240\n",
    "trainX, trainY = create_dataset(train, look_back)\n",
    "testX, testY = create_dataset(test, look_back)"
   ]
  },
  {
   "cell_type": "code",
   "execution_count": 38,
   "metadata": {},
   "outputs": [],
   "source": [
    "# reshape input to be [samples, time steps, features]\n",
    "trainX = np.reshape(trainX, (trainX.shape[0], 1, trainX.shape[1]))\n",
    "testX = np.reshape(testX, (testX.shape[0], 1, testX.shape[1]))"
   ]
  },
  {
   "cell_type": "code",
   "execution_count": 39,
   "metadata": {},
   "outputs": [
    {
     "name": "stdout",
     "output_type": "stream",
     "text": [
      "Epoch 1/100\n",
      "2276/2276 [==============================] - 1s 586us/step - loss: 0.0051\n",
      "Epoch 2/100\n",
      "2276/2276 [==============================] - 0s 35us/step - loss: 0.0021\n",
      "Epoch 3/100\n",
      "2276/2276 [==============================] - 0s 44us/step - loss: 0.0014\n",
      "Epoch 4/100\n",
      "2276/2276 [==============================] - 0s 40us/step - loss: 0.0010\n",
      "Epoch 5/100\n",
      "2276/2276 [==============================] - 0s 38us/step - loss: 7.9816e-04\n",
      "Epoch 6/100\n",
      "2276/2276 [==============================] - 0s 40us/step - loss: 6.7905e-04\n",
      "Epoch 7/100\n",
      "2276/2276 [==============================] - 0s 37us/step - loss: 5.7514e-04\n",
      "Epoch 8/100\n",
      "2276/2276 [==============================] - 0s 30us/step - loss: 5.0945e-04\n",
      "Epoch 9/100\n",
      "2276/2276 [==============================] - 0s 35us/step - loss: 4.4762e-04\n",
      "Epoch 10/100\n",
      "2276/2276 [==============================] - 0s 34us/step - loss: 4.0640e-04\n",
      "Epoch 11/100\n",
      "2276/2276 [==============================] - 0s 32us/step - loss: 3.6738e-04\n",
      "Epoch 12/100\n",
      "2276/2276 [==============================] - 0s 33us/step - loss: 3.1992e-04\n",
      "Epoch 13/100\n",
      "2276/2276 [==============================] - 0s 37us/step - loss: 3.0462e-04\n",
      "Epoch 14/100\n",
      "2276/2276 [==============================] - 0s 31us/step - loss: 2.6752e-04\n",
      "Epoch 15/100\n",
      "2276/2276 [==============================] - 0s 32us/step - loss: 2.6350e-04\n",
      "Epoch 16/100\n",
      "2276/2276 [==============================] - 0s 30us/step - loss: 2.4451e-04\n",
      "Epoch 17/100\n",
      "2276/2276 [==============================] - 0s 40us/step - loss: 2.2410e-04\n",
      "Epoch 18/100\n",
      "2276/2276 [==============================] - 0s 39us/step - loss: 2.1425e-04\n",
      "Epoch 19/100\n",
      "2276/2276 [==============================] - 0s 39us/step - loss: 2.1700e-04\n",
      "Epoch 20/100\n",
      "2276/2276 [==============================] - 0s 44us/step - loss: 2.0159e-04\n",
      "Epoch 21/100\n",
      "2276/2276 [==============================] - 0s 34us/step - loss: 1.9716e-04\n",
      "Epoch 22/100\n",
      "2276/2276 [==============================] - 0s 36us/step - loss: 1.9482e-04\n",
      "Epoch 23/100\n",
      "2276/2276 [==============================] - 0s 44us/step - loss: 2.0366e-04\n",
      "Epoch 24/100\n",
      "2276/2276 [==============================] - 0s 46us/step - loss: 1.8670e-04\n",
      "Epoch 25/100\n",
      "2276/2276 [==============================] - 0s 44us/step - loss: 1.8636e-04\n",
      "Epoch 26/100\n",
      "2276/2276 [==============================] - 0s 36us/step - loss: 1.7502e-04\n",
      "Epoch 27/100\n",
      "2276/2276 [==============================] - 0s 45us/step - loss: 1.8018e-04\n",
      "Epoch 28/100\n",
      "2276/2276 [==============================] - 0s 37us/step - loss: 1.7128e-04\n",
      "Epoch 29/100\n",
      "2276/2276 [==============================] - 0s 36us/step - loss: 1.7364e-04\n",
      "Epoch 30/100\n",
      "2276/2276 [==============================] - 0s 41us/step - loss: 1.6372e-04\n",
      "Epoch 31/100\n",
      "2276/2276 [==============================] - 0s 45us/step - loss: 1.6470e-04\n",
      "Epoch 32/100\n",
      "2276/2276 [==============================] - 0s 42us/step - loss: 1.6211e-04\n",
      "Epoch 33/100\n",
      "2276/2276 [==============================] - 0s 40us/step - loss: 1.6824e-04\n",
      "Epoch 34/100\n",
      "2276/2276 [==============================] - 0s 35us/step - loss: 1.5441e-04\n",
      "Epoch 35/100\n",
      "2276/2276 [==============================] - 0s 40us/step - loss: 1.4578e-04\n",
      "Epoch 36/100\n",
      "2276/2276 [==============================] - 0s 31us/step - loss: 1.5166e-04\n",
      "Epoch 37/100\n",
      "2276/2276 [==============================] - 0s 36us/step - loss: 1.5217e-04\n",
      "Epoch 38/100\n",
      "2276/2276 [==============================] - 0s 34us/step - loss: 1.3936e-04\n",
      "Epoch 39/100\n",
      "2276/2276 [==============================] - 0s 32us/step - loss: 1.4080e-04\n",
      "Epoch 40/100\n",
      "2276/2276 [==============================] - 0s 31us/step - loss: 1.4586e-04\n",
      "Epoch 41/100\n",
      "2276/2276 [==============================] - 0s 32us/step - loss: 1.4561e-04\n",
      "Epoch 42/100\n",
      "2276/2276 [==============================] - 0s 32us/step - loss: 1.3971e-04\n",
      "Epoch 43/100\n",
      "2276/2276 [==============================] - 0s 37us/step - loss: 1.3941e-04\n",
      "Epoch 44/100\n",
      "2276/2276 [==============================] - 0s 34us/step - loss: 1.3932e-04\n",
      "Epoch 45/100\n",
      "2276/2276 [==============================] - 0s 35us/step - loss: 1.3733e-04\n",
      "Epoch 46/100\n",
      "2276/2276 [==============================] - 0s 32us/step - loss: 1.3454e-04\n",
      "Epoch 47/100\n",
      "2276/2276 [==============================] - 0s 30us/step - loss: 1.3005e-04\n",
      "Epoch 48/100\n",
      "2276/2276 [==============================] - 0s 42us/step - loss: 1.2956e-04\n",
      "Epoch 49/100\n",
      "2276/2276 [==============================] - 0s 34us/step - loss: 1.3219e-04\n",
      "Epoch 50/100\n",
      "2276/2276 [==============================] - 0s 35us/step - loss: 1.3057e-04\n",
      "Epoch 51/100\n",
      "2276/2276 [==============================] - 0s 41us/step - loss: 1.2167e-04\n",
      "Epoch 52/100\n",
      "2276/2276 [==============================] - 0s 43us/step - loss: 1.2575e-04\n",
      "Epoch 53/100\n",
      "2276/2276 [==============================] - 0s 44us/step - loss: 1.2698e-04\n",
      "Epoch 54/100\n",
      "2276/2276 [==============================] - 0s 43us/step - loss: 1.2570e-04\n",
      "Epoch 55/100\n",
      "2276/2276 [==============================] - 0s 35us/step - loss: 1.3041e-04\n",
      "Epoch 56/100\n",
      "2276/2276 [==============================] - 0s 35us/step - loss: 1.2928e-04\n",
      "Epoch 57/100\n",
      "2276/2276 [==============================] - 0s 34us/step - loss: 1.2936e-04\n",
      "Epoch 58/100\n",
      "2276/2276 [==============================] - 0s 40us/step - loss: 1.2209e-04\n",
      "Epoch 59/100\n",
      "2276/2276 [==============================] - 0s 40us/step - loss: 1.1909e-04\n",
      "Epoch 60/100\n",
      "2276/2276 [==============================] - 0s 35us/step - loss: 1.2010e-04\n",
      "Epoch 61/100\n",
      "2276/2276 [==============================] - 0s 33us/step - loss: 1.3358e-04\n",
      "Epoch 62/100\n",
      "2276/2276 [==============================] - 0s 31us/step - loss: 1.2224e-04\n",
      "Epoch 63/100\n",
      "2276/2276 [==============================] - 0s 37us/step - loss: 1.0960e-04\n",
      "Epoch 64/100\n",
      "2276/2276 [==============================] - 0s 36us/step - loss: 1.1543e-04\n",
      "Epoch 65/100\n",
      "2276/2276 [==============================] - 0s 48us/step - loss: 1.1282e-04\n",
      "Epoch 66/100\n",
      "2276/2276 [==============================] - 0s 34us/step - loss: 1.2120e-04\n",
      "Epoch 67/100\n",
      "2276/2276 [==============================] - 0s 33us/step - loss: 1.1186e-04\n",
      "Epoch 68/100\n",
      "2276/2276 [==============================] - 0s 35us/step - loss: 1.0729e-04\n",
      "Epoch 69/100\n",
      "2276/2276 [==============================] - 0s 33us/step - loss: 1.1697e-04\n",
      "Epoch 70/100\n",
      "2276/2276 [==============================] - 0s 37us/step - loss: 1.0662e-04\n",
      "Epoch 71/100\n",
      "2276/2276 [==============================] - 0s 40us/step - loss: 1.0404e-04\n",
      "Epoch 72/100\n",
      "2276/2276 [==============================] - 0s 33us/step - loss: 1.1044e-04\n",
      "Epoch 73/100\n",
      "2276/2276 [==============================] - 0s 32us/step - loss: 1.0512e-04\n",
      "Epoch 74/100\n",
      "2276/2276 [==============================] - 0s 36us/step - loss: 1.0231e-04\n",
      "Epoch 75/100\n",
      "2276/2276 [==============================] - 0s 33us/step - loss: 1.0255e-04\n",
      "Epoch 76/100\n",
      "2276/2276 [==============================] - 0s 34us/step - loss: 1.1352e-04\n",
      "Epoch 77/100\n",
      "2276/2276 [==============================] - 0s 35us/step - loss: 1.0607e-04\n",
      "Epoch 78/100\n",
      "2276/2276 [==============================] - 0s 29us/step - loss: 1.0142e-04\n",
      "Epoch 79/100\n",
      "2276/2276 [==============================] - 0s 33us/step - loss: 9.9863e-05\n",
      "Epoch 80/100\n",
      "2276/2276 [==============================] - 0s 36us/step - loss: 1.0720e-04\n",
      "Epoch 81/100\n",
      "2276/2276 [==============================] - 0s 30us/step - loss: 1.0962e-04\n",
      "Epoch 82/100\n",
      "2276/2276 [==============================] - 0s 35us/step - loss: 1.0068e-04\n",
      "Epoch 83/100\n",
      "2276/2276 [==============================] - 0s 42us/step - loss: 1.0095e-04\n",
      "Epoch 84/100\n",
      "2276/2276 [==============================] - 0s 31us/step - loss: 9.5372e-05\n",
      "Epoch 85/100\n",
      "2276/2276 [==============================] - 0s 31us/step - loss: 9.8806e-05\n",
      "Epoch 86/100\n",
      "2276/2276 [==============================] - 0s 33us/step - loss: 1.0052e-04\n",
      "Epoch 87/100\n",
      "2276/2276 [==============================] - 0s 33us/step - loss: 9.9774e-05\n",
      "Epoch 88/100\n",
      "2276/2276 [==============================] - 0s 32us/step - loss: 9.8625e-05\n",
      "Epoch 89/100\n",
      "2276/2276 [==============================] - 0s 33us/step - loss: 9.5997e-05\n",
      "Epoch 90/100\n",
      "2276/2276 [==============================] - 0s 31us/step - loss: 9.7829e-05\n",
      "Epoch 91/100\n",
      "2276/2276 [==============================] - 0s 33us/step - loss: 9.4018e-05\n",
      "Epoch 92/100\n",
      "2276/2276 [==============================] - 0s 34us/step - loss: 9.5500e-05\n",
      "Epoch 93/100\n",
      "2276/2276 [==============================] - 0s 34us/step - loss: 1.0126e-04\n",
      "Epoch 94/100\n",
      "2276/2276 [==============================] - 0s 33us/step - loss: 8.9621e-05\n",
      "Epoch 95/100\n",
      "2276/2276 [==============================] - 0s 32us/step - loss: 9.7628e-05\n",
      "Epoch 96/100\n",
      "2276/2276 [==============================] - 0s 40us/step - loss: 8.7837e-05\n",
      "Epoch 97/100\n",
      "2276/2276 [==============================] - 0s 40us/step - loss: 9.2726e-05\n",
      "Epoch 98/100\n",
      "2276/2276 [==============================] - 0s 35us/step - loss: 9.4048e-05\n",
      "Epoch 99/100\n",
      "2276/2276 [==============================] - 0s 34us/step - loss: 1.0481e-04\n",
      "Epoch 100/100\n",
      "2276/2276 [==============================] - 0s 32us/step - loss: 9.1613e-05\n"
     ]
    },
    {
     "data": {
      "text/plain": [
       "<keras.callbacks.History at 0x21889b37f60>"
      ]
     },
     "execution_count": 39,
     "metadata": {},
     "output_type": "execute_result"
    }
   ],
   "source": [
    "# create and fit the LSTM network, optimizer=adam, 25 neurons, dropout 0.1\n",
    "model = Sequential()\n",
    "model.add(LSTM(25, input_shape=(1, look_back)))\n",
    "model.add(Dropout(0.1))\n",
    "model.add(Dense(1))\n",
    "model.compile(loss='mse', optimizer='adam')\n",
    "model.fit(trainX, trainY, epochs=100, batch_size=240, verbose=1)"
   ]
  },
  {
   "cell_type": "code",
   "execution_count": 40,
   "metadata": {},
   "outputs": [],
   "source": [
    "# make predictions\n",
    "trainPredict = model.predict(trainX)\n",
    "testPredict = model.predict(testX)"
   ]
  },
  {
   "cell_type": "code",
   "execution_count": 41,
   "metadata": {},
   "outputs": [],
   "source": [
    "# invert predictions\n",
    "trainPredict = scaler.inverse_transform(trainPredict)\n",
    "trainY = scaler.inverse_transform([trainY])\n",
    "testPredict = scaler.inverse_transform(testPredict)\n",
    "testY = scaler.inverse_transform([testY])"
   ]
  },
  {
   "cell_type": "code",
   "execution_count": 42,
   "metadata": {},
   "outputs": [
    {
     "name": "stdout",
     "output_type": "stream",
     "text": [
      "Train Score: 0.76 RMSE\n",
      "Test Score: 12.39 RMSE\n"
     ]
    }
   ],
   "source": [
    "# calculate root mean squared error\n",
    "trainScore = math.sqrt(mean_squared_error(trainY[0], trainPredict[:,0]))\n",
    "print('Train Score: %.2f RMSE' % (trainScore))\n",
    "testScore = math.sqrt(mean_squared_error(testY[0], testPredict[:,0]))\n",
    "print('Test Score: %.2f RMSE' % (testScore))"
   ]
  },
  {
   "cell_type": "code",
   "execution_count": 43,
   "metadata": {},
   "outputs": [],
   "source": [
    "# shift train predictions for plotting\n",
    "trainPredictPlot = np.empty_like(dataset)\n",
    "trainPredictPlot[:, :] = np.nan\n",
    "trainPredictPlot[look_back:len(trainPredict)+look_back, :] = trainPredict"
   ]
  },
  {
   "cell_type": "code",
   "execution_count": 44,
   "metadata": {},
   "outputs": [],
   "source": [
    "# shift test predictions for plotting\n",
    "testPredictPlot = np.empty_like(dataset)\n",
    "testPredictPlot[:, :] = np.nan\n",
    "testPredictPlot[len(trainPredict)+(look_back*2)+1:len(dataset)-1, :] = testPredict"
   ]
  },
  {
   "cell_type": "code",
   "execution_count": 45,
   "metadata": {},
   "outputs": [
    {
     "name": "stdout",
     "output_type": "stream",
     "text": [
      "testPrices:\n"
     ]
    },
    {
     "data": {
      "image/png": "[encoded data removed]",
      "text/plain": [
       "<Figure size 432x288 with 1 Axes>"
      ]
     },
     "metadata": {
      "needs_background": "light"
     },
     "output_type": "display_data"
    }
   ],
   "source": [
    "# plot baseline and predictions\n",
    "plt.plot(scaler.inverse_transform(dataset))\n",
    "plt.plot(trainPredictPlot)\n",
    "print('testPrices:')\n",
    "testPrices=scaler.inverse_transform(dataset[test_size+look_back:])"
   ]
  },
  {
   "cell_type": "code",
   "execution_count": 46,
   "metadata": {},
   "outputs": [
    {
     "name": "stdout",
     "output_type": "stream",
     "text": [
      "testPredictions:\n",
      "[[27.53004 ]\n",
      " [27.892738]\n",
      " [27.818977]\n",
      " ...\n",
      " [79.40207 ]\n",
      " [79.48891 ]\n",
      " [79.129654]]\n"
     ]
    }
   ],
   "source": [
    "print('testPredictions:')\n",
    "print(testPredict)"
   ]
  },
  {
   "cell_type": "code",
   "execution_count": 47,
   "metadata": {},
   "outputs": [
    {
     "data": {
      "image/png": "[encoded data removed]",
      "text/plain": [
       "<Figure size 432x288 with 1 Axes>"
      ]
     },
     "metadata": {
      "needs_background": "light"
     },
     "output_type": "display_data"
    }
   ],
   "source": [
    "# plot the actual price, prediction in test data=red line, actual price=blue line\n",
    "plt.plot(testPredictPlot)\n",
    "plt.show()"
   ]
  },
  {
   "cell_type": "code",
   "execution_count": null,
   "metadata": {},
   "outputs": [],
   "source": []
  }
 ],
 "metadata": {
  "kernelspec": {
   "display_name": "Python 3",
   "language": "python",
   "name": "python3"
  },
  "language_info": {
   "codemirror_mode": {
    "name": "ipython",
    "version": 3
   },
   "file_extension": ".py",
   "mimetype": "text/x-python",
   "name": "python",
   "nbconvert_exporter": "python",
   "pygments_lexer": "ipython3",
   "version": "3.7.0"
  }
 },
 "nbformat": 4,
 "nbformat_minor": 2
}
